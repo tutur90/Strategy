{
 "cells": [
  {
   "cell_type": "code",
   "execution_count": 1,
   "id": "initial_id",
   "metadata": {
    "collapsed": true,
    "ExecuteTime": {
     "end_time": "2023-11-17T15:38:30.769788300Z",
     "start_time": "2023-11-17T15:38:30.263392100Z"
    }
   },
   "outputs": [
    {
     "name": "stdout",
     "output_type": "stream",
     "text": [
      "{'retCode': 0, 'retMsg': 'OK', 'result': {'symbol': 'BTCUSD', 'category': 'futures', 'list': [['1670608800000', '17071', '17073', '17027', '17055.5', '268611', '15.74462667'], ['1670605200000', '17071.5', '17071.5', '17061', '17071', '4177', '0.24469757'], ['1670601600000', '17086.5', '17088', '16978', '17071.5', '6356', '0.37288112']]}, 'retExtInfo': {}, 'time': 1700235511160}\n"
     ]
    }
   ],
   "source": [
    "from pybit.unified_trading import HTTP\n",
    "session = HTTP(testnet=True)\n",
    "print(session.get_kline(\n",
    "    category=\"futures\",\n",
    "    symbol=\"BTCUSD\",\n",
    "    interval=60,\n",
    "    start=1670601600000,\n",
    "    end=1670608800000,\n",
    "))"
   ]
  },
  {
   "cell_type": "code",
   "execution_count": 24,
   "outputs": [
    {
     "data": {
      "text/plain": "1700236275784"
     },
     "execution_count": 24,
     "metadata": {},
     "output_type": "execute_result"
    }
   ],
   "source": [
    "import time\n",
    "def current_milli_time():\n",
    "    return round(time.time() * 1000)\n",
    "current_milli_time()"
   ],
   "metadata": {
    "collapsed": false,
    "ExecuteTime": {
     "end_time": "2023-11-17T15:51:15.831440800Z",
     "start_time": "2023-11-17T15:51:15.787136400Z"
    }
   },
   "id": "54e3a6c15fa9c067"
  },
  {
   "cell_type": "code",
   "execution_count": 55,
   "outputs": [],
   "source": [
    "date = current_milli_time()\n",
    "\n",
    "limit = 100\n",
    "\n",
    "r = session.get_kline(\n",
    "    category=\"inverse\",\n",
    "    symbol=\"BTCUSD\",\n",
    "    interval=5,\n",
    "    start=1638349200000 + 2 * 5 * 60 * 1000,\n",
    "    end=1638349200000 - (limit * 5 * 60 * 1000),\n",
    ")\n"
   ],
   "metadata": {
    "collapsed": false,
    "ExecuteTime": {
     "end_time": "2023-11-17T16:41:35.360357900Z",
     "start_time": "2023-11-17T16:41:34.897046100Z"
    }
   },
   "id": "b93e032dd7051111"
  },
  {
   "cell_type": "code",
   "execution_count": 56,
   "outputs": [
    {
     "data": {
      "text/plain": "Empty DataFrame\nColumns: []\nIndex: []",
      "text/html": "<div>\n<style scoped>\n    .dataframe tbody tr th:only-of-type {\n        vertical-align: middle;\n    }\n\n    .dataframe tbody tr th {\n        vertical-align: top;\n    }\n\n    .dataframe thead th {\n        text-align: right;\n    }\n</style>\n<table border=\"1\" class=\"dataframe\">\n  <thead>\n    <tr style=\"text-align: right;\">\n      <th></th>\n    </tr>\n  </thead>\n  <tbody>\n  </tbody>\n</table>\n</div>"
     },
     "execution_count": 56,
     "metadata": {},
     "output_type": "execute_result"
    }
   ],
   "source": [
    "import pandas as pd\n",
    "df = pd.DataFrame(r['result']['list'])\n",
    "df"
   ],
   "metadata": {
    "collapsed": false,
    "ExecuteTime": {
     "end_time": "2023-11-17T16:41:37.504836100Z",
     "start_time": "2023-11-17T16:41:37.474422700Z"
    }
   },
   "id": "1a7403f7e1e8d91"
  },
  {
   "cell_type": "code",
   "execution_count": 15,
   "outputs": [
    {
     "data": {
      "text/plain": "1700236142328"
     },
     "execution_count": 15,
     "metadata": {},
     "output_type": "execute_result"
    }
   ],
   "source": [],
   "metadata": {
    "collapsed": false,
    "ExecuteTime": {
     "end_time": "2023-11-17T15:49:02.373770Z",
     "start_time": "2023-11-17T15:49:02.329227900Z"
    }
   },
   "id": "2cae3070c8d0b475"
  },
  {
   "cell_type": "code",
   "execution_count": 36,
   "outputs": [
    {
     "data": {
      "text/plain": "                0       1       2        3       4          5               6\n0   1700233200000  2.8699  2.8699  2.77375  2.7863  1510522.1   4274980.47655\n1   1700229600000  2.8977  2.9223   2.8699  2.8699  1778621.7   5131475.96044\n2   1700226000000  2.9221  2.9538   2.8977  2.8977  1691118.9  4933897.304585\n3   1700222400000  2.9222  2.9222   2.8551  2.9221  1713190.6  4964875.778355\n4   1700218800000  2.9262  2.9586   2.9222  2.9222    1744106   5107452.99014\n..            ...     ...     ...      ...     ...        ...             ...\n3   1638363600000    5.43    5.72    5.365    5.48       6043        33571.69\n4   1638360000000   5.625   5.805    5.295    5.43     6742.3      37532.3995\n5   1638356400000    5.59    5.83    5.565   5.625     5708.5      32379.5905\n6   1638352800000    5.64    5.84     5.53    5.59     6006.6        34366.78\n7   1638349200000    5.79    5.79     5.64    5.64      168.7         968.816\n\n[17191 rows x 7 columns]",
      "text/html": "<div>\n<style scoped>\n    .dataframe tbody tr th:only-of-type {\n        vertical-align: middle;\n    }\n\n    .dataframe tbody tr th {\n        vertical-align: top;\n    }\n\n    .dataframe thead th {\n        text-align: right;\n    }\n</style>\n<table border=\"1\" class=\"dataframe\">\n  <thead>\n    <tr style=\"text-align: right;\">\n      <th></th>\n      <th>0</th>\n      <th>1</th>\n      <th>2</th>\n      <th>3</th>\n      <th>4</th>\n      <th>5</th>\n      <th>6</th>\n    </tr>\n  </thead>\n  <tbody>\n    <tr>\n      <th>0</th>\n      <td>1700233200000</td>\n      <td>2.8699</td>\n      <td>2.8699</td>\n      <td>2.77375</td>\n      <td>2.7863</td>\n      <td>1510522.1</td>\n      <td>4274980.47655</td>\n    </tr>\n    <tr>\n      <th>1</th>\n      <td>1700229600000</td>\n      <td>2.8977</td>\n      <td>2.9223</td>\n      <td>2.8699</td>\n      <td>2.8699</td>\n      <td>1778621.7</td>\n      <td>5131475.96044</td>\n    </tr>\n    <tr>\n      <th>2</th>\n      <td>1700226000000</td>\n      <td>2.9221</td>\n      <td>2.9538</td>\n      <td>2.8977</td>\n      <td>2.8977</td>\n      <td>1691118.9</td>\n      <td>4933897.304585</td>\n    </tr>\n    <tr>\n      <th>3</th>\n      <td>1700222400000</td>\n      <td>2.9222</td>\n      <td>2.9222</td>\n      <td>2.8551</td>\n      <td>2.9221</td>\n      <td>1713190.6</td>\n      <td>4964875.778355</td>\n    </tr>\n    <tr>\n      <th>4</th>\n      <td>1700218800000</td>\n      <td>2.9262</td>\n      <td>2.9586</td>\n      <td>2.9222</td>\n      <td>2.9222</td>\n      <td>1744106</td>\n      <td>5107452.99014</td>\n    </tr>\n    <tr>\n      <th>...</th>\n      <td>...</td>\n      <td>...</td>\n      <td>...</td>\n      <td>...</td>\n      <td>...</td>\n      <td>...</td>\n      <td>...</td>\n    </tr>\n    <tr>\n      <th>3</th>\n      <td>1638363600000</td>\n      <td>5.43</td>\n      <td>5.72</td>\n      <td>5.365</td>\n      <td>5.48</td>\n      <td>6043</td>\n      <td>33571.69</td>\n    </tr>\n    <tr>\n      <th>4</th>\n      <td>1638360000000</td>\n      <td>5.625</td>\n      <td>5.805</td>\n      <td>5.295</td>\n      <td>5.43</td>\n      <td>6742.3</td>\n      <td>37532.3995</td>\n    </tr>\n    <tr>\n      <th>5</th>\n      <td>1638356400000</td>\n      <td>5.59</td>\n      <td>5.83</td>\n      <td>5.565</td>\n      <td>5.625</td>\n      <td>5708.5</td>\n      <td>32379.5905</td>\n    </tr>\n    <tr>\n      <th>6</th>\n      <td>1638352800000</td>\n      <td>5.64</td>\n      <td>5.84</td>\n      <td>5.53</td>\n      <td>5.59</td>\n      <td>6006.6</td>\n      <td>34366.78</td>\n    </tr>\n    <tr>\n      <th>7</th>\n      <td>1638349200000</td>\n      <td>5.79</td>\n      <td>5.79</td>\n      <td>5.64</td>\n      <td>5.64</td>\n      <td>168.7</td>\n      <td>968.816</td>\n    </tr>\n  </tbody>\n</table>\n<p>17191 rows × 7 columns</p>\n</div>"
     },
     "execution_count": 36,
     "metadata": {},
     "output_type": "execute_result"
    }
   ],
   "source": [
    "df = pd.DataFrame()\n",
    "\n",
    "date = current_milli_time()\n",
    "\n",
    "limit = 200\n",
    "\n",
    "boucle = True\n",
    "\n",
    "while boucle:\n",
    "\n",
    "    r = session.get_kline(\n",
    "    category=\"futures\",\n",
    "    symbol=\"RNDRUSDT\",\n",
    "    interval=60,\n",
    "    start=date- (limit * 5 * 60 * 1000),\n",
    "    end=date,)\n",
    "\n",
    "    data = r['result']['list']\n",
    "    \n",
    "    if data == []:\n",
    "        boucle = False\n",
    "    else:\n",
    "        dft = pd.DataFrame(data)\n",
    "        df = pd.concat([df, dft])\n",
    "\n",
    "        date = date - (limit * 5 * 60 * 1000)\n",
    "        \n",
    "df"
   ],
   "metadata": {
    "collapsed": false,
    "ExecuteTime": {
     "end_time": "2023-11-17T16:01:31.944730200Z",
     "start_time": "2023-11-17T15:58:23.574690400Z"
    }
   },
   "id": "8efdaebf407a9626"
  },
  {
   "cell_type": "code",
   "execution_count": null,
   "outputs": [],
   "source": [],
   "metadata": {
    "collapsed": false
   },
   "id": "399d07bb821beb6c"
  }
 ],
 "metadata": {
  "kernelspec": {
   "display_name": "Python 3",
   "language": "python",
   "name": "python3"
  },
  "language_info": {
   "codemirror_mode": {
    "name": "ipython",
    "version": 2
   },
   "file_extension": ".py",
   "mimetype": "text/x-python",
   "name": "python",
   "nbconvert_exporter": "python",
   "pygments_lexer": "ipython2",
   "version": "2.7.6"
  }
 },
 "nbformat": 4,
 "nbformat_minor": 5
}
